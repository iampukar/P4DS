{
 "cells": [
  {
   "cell_type": "markdown",
   "metadata": {},
   "source": [
    "# Python\n",
    "\n",
    "    - dynamic, interpreable, modular object oriented language.\n",
    "    - extensive library support and integration.\n",
    "    - simplify complex system development.\n",
    "    - support to CLI utilities.\n",
    "    - easily interoperable with other opensource frameworks and tools.\n",
    "    - no type declaration, tracks value type during run time.\n",
    "    - benchmark for majority of Artificial Intelligence projects."
   ]
  },
  {
   "cell_type": "markdown",
   "metadata": {},
   "source": [
    "# Hello World"
   ]
  },
  {
   "cell_type": "code",
   "execution_count": 1,
   "metadata": {},
   "outputs": [
    {
     "name": "stdout",
     "output_type": "stream",
     "text": [
      "Hello World!\n",
      "Hello World!\n",
      "Hello World!\n",
      "Hello World!\n",
      "Hello World!\n",
      "Hello World!\n",
      "Hello World!\n"
     ]
    }
   ],
   "source": [
    "our_string = \"Hello World!\"\n",
    "\n",
    "print(f\"{our_string}\")\n",
    "print(f\"Hello World!\")\n",
    "print(\"Hello World!\")\n",
    "print(\"Hello\" + \" \" + \"World\" + \"!\")\n",
    "print('Hello', 'World!', sep=' ')\n",
    "print(\"{first_word} {second_word}\".format(first_word=\"Hello\", \n",
    "                                          second_word = \"World!\"))\n",
    "print('Hello', end=' ')\n",
    "print('World!')"
   ]
  },
  {
   "cell_type": "code",
   "execution_count": 2,
   "metadata": {},
   "outputs": [
    {
     "name": "stdout",
     "output_type": "stream",
     "text": [
      "Python Version: 3.8.1\n"
     ]
    }
   ],
   "source": [
    "import platform\n",
    "print(\"Python Version: {0}\".format(platform.python_version()))"
   ]
  },
  {
   "cell_type": "markdown",
   "metadata": {},
   "source": [
    "# Comments\n",
    "\n",
    "    - Comments are very easy to execute in python.\n",
    "    - We can comment using the 'hash' or a pound symbol.\n",
    "    - Comments block can also be made using a ''' - ''' structure."
   ]
  },
  {
   "cell_type": "code",
   "execution_count": 3,
   "metadata": {},
   "outputs": [
    {
     "data": {
      "text/plain": [
       "'This is our second comment.'"
      ]
     },
     "execution_count": 3,
     "metadata": {},
     "output_type": "execute_result"
    }
   ],
   "source": [
    "# This is our first comment. \n",
    "\n",
    "# Python ignores the string literals that are not assigned\n",
    "# to a variable. In such a case, we can also use a multiline\n",
    "# string type comment block, with ''' --- '''.\n",
    "\n",
    "'''This is our second comment.'''"
   ]
  },
  {
   "cell_type": "markdown",
   "metadata": {},
   "source": [
    "# Variable\n",
    "\n",
    "    - assigning values to something.\n",
    "    - must start with a letter, or an underscore. \n",
    "    - shouldn't begin with a number.\n",
    "    - case sensitive, variable 'a' and 'A' are different."
   ]
  },
  {
   "cell_type": "code",
   "execution_count": 4,
   "metadata": {},
   "outputs": [
    {
     "name": "stdout",
     "output_type": "stream",
     "text": [
      "5, <class 'int'>\n",
      "10, <class 'int'>\n",
      "\n",
      "5.5, <class 'float'>\n",
      "10.5, <class 'float'>\n",
      "\n",
      "Pukar, <class 'str'>\n",
      "Acharya, <class 'str'>\n",
      "\n",
      "True, <class 'bool'>\n",
      "False, <class 'bool'>\n",
      "\n"
     ]
    }
   ],
   "source": [
    "# Integer Variable\n",
    "num1, num2 = 5, 10\n",
    "print(f\"{num1}, {type(num1)}\")\n",
    "print(f\"{num2}, {type(num2)}\", end = '\\n\\n')\n",
    "\n",
    "# Float Variable\n",
    "num3, num4 = 5.5, 10.5\n",
    "print(f\"{num3}, {type(num3)}\")\n",
    "print(f\"{num4}, {type(num4)}\", end = '\\n\\n')\n",
    "\n",
    "# String Variable\n",
    "str1, str2 = \"Pukar\", \"Acharya\"\n",
    "print(f\"{str1}, {type(str1)}\")\n",
    "print(f\"{str2}, {type(str2)}\", end = '\\n\\n')\n",
    "\n",
    "# Boolean Variable\n",
    "bool1, bool2 = True, False\n",
    "print(f\"{bool1}, {type(bool1)}\")\n",
    "print(f\"{bool2}, {type(bool2)}\", end = '\\n\\n')"
   ]
  },
  {
   "cell_type": "markdown",
   "metadata": {},
   "source": [
    "# Lists\n",
    "\n",
    "    - ordered, mutable data structures\n",
    "    - structured in a comma separated format, enclosed within square brackets."
   ]
  },
  {
   "cell_type": "code",
   "execution_count": 5,
   "metadata": {},
   "outputs": [
    {
     "name": "stdout",
     "output_type": "stream",
     "text": [
      "Day 1 of the week is Sunday\n",
      "Day 2 of the week is Monday\n",
      "Day 3 of the week is Tuesday\n",
      "Day 4 of the week is Wednesday\n",
      "Day 5 of the week is Thursday\n",
      "Day 6 of the week is Friday\n",
      "Day 7 of the week is Saturday\n",
      "Friday\n",
      "Length of first_list is 7\n",
      "\n",
      "['Sunday', 'Monday', 'Tuesday', 'Wednesday', 'Thursday', 'Friday', 'Saturday']\n",
      "Sunday\n",
      "Saturday\n",
      "['Monday', 'Tuesday', 'Wednesday', 'Thursday', 'Friday', 'Saturday']\n",
      "['Sunday', 'Monday', 'Tuesday']\n",
      "2\n",
      "\n",
      "['Sunday', 'Monday', 'Tuesday', 'Wednesday', 'Thursday', 'Friday', 'Saturday', 'My Last Day']\n",
      "['My First Day', 'Sunday', 'Monday', 'Tuesday', 'Wednesday', 'Thursday', 'Friday', 'Saturday', 'My Last Day']\n",
      "\n",
      "['Sunday', 'Monday', 'Tuesday', 'Wednesday', 'Thursday', 'Friday', 'Saturday', 'My Last Day']\n",
      "['Sunday', 'Monday', 'Tuesday', 'Wednesday', 'Thursday', 'Friday', 'Saturday']\n",
      "\n",
      "['My Own Day', 'Monday', 'Tuesday', 'Wednesday', 'Thursday', 'Friday', 'Saturday']\n",
      "\n",
      "['Friday', 'Monday', 'My Own Day', 'Saturday', 'Thursday', 'Tuesday', 'Wednesday']\n",
      "['Wednesday', 'Tuesday', 'Thursday', 'Saturday', 'My Own Day', 'Monday', 'Friday']\n",
      "Saturday\n",
      "My Own Day\n",
      "\n",
      "[1, 2, 3, 4, 5]\n",
      "[1, 2, 3, 4, 5]\n",
      "\n",
      "1\n",
      "5\n",
      "15\n",
      "True\n",
      "True\n",
      "['Sunday', 'Monday', 'Tuesday']\n"
     ]
    }
   ],
   "source": [
    "# Creating a list\n",
    "\n",
    "first_list = ['Sunday', 'Monday', 'Tuesday', 'Wednesday', 'Thursday', 'Friday', 'Saturday']\n",
    "\n",
    "# Loop through the list\n",
    "\n",
    "for i, day in enumerate(first_list):\n",
    "    print(f\"Day {str(i+1)} of the week is {day}\")\n",
    "\n",
    "# Random list item generator\n",
    "\n",
    "import random\n",
    "print(random.choice(first_list))        \n",
    "\n",
    "# Length of a list\n",
    "\n",
    "print(f\"Length of {'first_list'} is {len(first_list)}\", end = '\\n\\n')\n",
    "\n",
    "# Indexing and Slicing in a list\n",
    "\n",
    "## Includes all list items\n",
    "print(f\"{first_list[:]}\")\n",
    "## First Item in the List\n",
    "print(f\"{first_list[0]}\")\n",
    "## Last Item in the List\n",
    "print(f\"{first_list[-1]}\")\n",
    "## All list items from first position to end of the list\n",
    "print(f\"{first_list[1:]}\")\n",
    "## All list items from start index to end index, except end index item\n",
    "print(f\"{first_list[0:3]}\")\n",
    "\n",
    "# Returns the position of the value from the given list\n",
    "print(f\"{first_list.index('Tuesday')}\", end = '\\n\\n') \n",
    "\n",
    "# Add to a list\n",
    "\n",
    "## Add an item to the end of the list\n",
    "first_list.append(\"My Last Day\")        \n",
    "print(f\"{first_list}\")\n",
    "## Add an item at index position 0 in the list\n",
    "first_list.insert(0, 'My First Day')    \n",
    "print(f\"{first_list}\", end = '\\n\\n')\n",
    "\n",
    "# Remove from a list\n",
    "\n",
    "## Removes the item at index 0 of the list\n",
    "del first_list[0]                       \n",
    "print(f\"{first_list}\")\n",
    "## Removes an item in the list by its value\n",
    "first_list.remove('My Last Day')        \n",
    "print(f\"{first_list}\", end = '\\n\\n')\n",
    "\n",
    "# Replace from a list\n",
    "\n",
    "## Replaces the item in the list at index 0 with the value supplied\n",
    "first_list[0] = 'My Own Day'            \n",
    "print(f\"{first_list}\", end = '\\n\\n')\n",
    "\n",
    "# Operations in a list\n",
    "\n",
    "## Ascending order sorting of list\n",
    "print(sorted(first_list))\n",
    "## Descending order sorting of list\n",
    "print(sorted(first_list, reverse = True))\n",
    "## Pops out the last element from the list\n",
    "print(first_list.pop())\n",
    "## Pops out the element at index 0 from the list\n",
    "print(first_list.pop(0), end = '\\n\\n')       \n",
    "\n",
    "# List Concatenation and Replication\n",
    "\n",
    "## Concatenation\n",
    "list_num = [1, 2, 3] + [4, 5]           \n",
    "print(f\"{list_num}\")\n",
    "## Replication\n",
    "new_num_list = list_num[:]              \n",
    "print(f\"{new_num_list}\", end = '\\n\\n')\n",
    "## Returns minimum valued item from the list\n",
    "print(f\"{min(list_num)}\")\n",
    "## Returns maximum valued item from the list\n",
    "print(f\"{max(list_num)}\")\n",
    "## Returns sum of all items from the list\n",
    "print(f\"{sum(list_num)}\")\n",
    "\n",
    "# Operators\n",
    "\n",
    "print('Sunday' in ['Sunday', 'Monday', 'Tuesday'])\n",
    "print('Friday' not in ['Sunday', 'Monday', 'Tuesday'])\n",
    "\n",
    "# List Comprehension\n",
    "\n",
    "## Structure -> newlist = [expression for expression in list]\n",
    "\n",
    "weekDay = ['Sunday', 'Monday', 'Tuesday']\n",
    "newDay = [day for day in weekDay]\n",
    "print(newDay)"
   ]
  },
  {
   "cell_type": "markdown",
   "metadata": {},
   "source": [
    "# Tuple\n",
    "\n",
    "    - ordered, immutable data structures.\n",
    "    - structured in a comma separated format, enclosed within regular brackets."
   ]
  },
  {
   "cell_type": "code",
   "execution_count": 6,
   "metadata": {},
   "outputs": [
    {
     "name": "stdout",
     "output_type": "stream",
     "text": [
      "(1, 'One'), <class 'tuple'>\n",
      "\n",
      "(1, 'One', 2, 'Two', 3)\n",
      "\n",
      "(1, 2, 3, 4, 5)\n"
     ]
    }
   ],
   "source": [
    "# Creating a tuple\n",
    "\n",
    "myTuple = (1, \"One\")\n",
    "print(f\"{myTuple}, {type(myTuple)}\", end = '\\n\\n')\n",
    "\n",
    "# Adding values to a tuple\n",
    "\n",
    "newTuple = myTuple + (2, \"Two\", 3)\n",
    "print(f\"{newTuple}\", end = '\\n\\n')\n",
    "\n",
    "# Overriding a tuple\n",
    "\n",
    "newTuple = (1, 2, 3, 4, 5) \n",
    "print(f\"{newTuple}\")\n",
    "\n",
    "# Tuples are immutable. If you uncomment the below code,\n",
    "# and execute the same, it will throw an erorr.  \n",
    "\n",
    "#newTuple[0] = 2"
   ]
  },
  {
   "cell_type": "markdown",
   "metadata": {},
   "source": [
    "# Dictionaries\n",
    "\n",
    "    - unordered, mutable data structures. \n",
    "    - helps to map key-value pairs"
   ]
  },
  {
   "cell_type": "code",
   "execution_count": 7,
   "metadata": {},
   "outputs": [
    {
     "name": "stdout",
     "output_type": "stream",
     "text": [
      "Use of keys method - \n",
      "one two three four five \n",
      "\n",
      "Use of values method - \n",
      "1 2 3 4 5 \n",
      "\n",
      "Use of items method - \n",
      "Key is one, and Value is 1\n",
      "Key is two, and Value is 2\n",
      "Key is three, and Value is 3\n",
      "Key is four, and Value is 4\n",
      "Key is five, and Value is 5\n",
      "\n",
      "Length of myDict is 5\n",
      "\n",
      "1\n",
      "{'one': 1, 'two': 2, 'three': 3, 'four': 4, 'five': 5, 'six': 6}\n",
      "{'one': 1, 'two': 2, 'three': 3, 'four': 4, 'five': 5}\n",
      "{'one': 1, 'two': 2, 'three': 33, 'four': 4, 'five': 5}\n",
      "True\n"
     ]
    }
   ],
   "source": [
    "# Creating a dictionary\n",
    "\n",
    "myDict = {'one': 1, 'two': 2, 'three': 3, 'four': 4, 'five': 5}\n",
    "##keys -> one, two, three, four, five\n",
    "##values -> 1, 2, 3, 4, 5\n",
    "\n",
    "# keys(), values(), and items() methods\n",
    "print(\"Use of keys method - \")\n",
    "for i in myDict.keys():\n",
    "    print(i, end=' ')\n",
    "print(\"\\n\\nUse of values method - \")\n",
    "for i in myDict.values():\n",
    "    print(i, end=' ')\n",
    "print(\"\\n\\nUse of items method - \")\n",
    "for i, j in myDict.items():\n",
    "    print(\"Key is {}, and Value is {}\".format(i, j))\n",
    "\n",
    "# Length of the dictionary\n",
    "\n",
    "print(f\"\\nLength of {'myDict'} is {len(myDict)}\", end = '\\n\\n')\n",
    "    \n",
    "# Retreiving the key value\n",
    "\n",
    "print(myDict['one'])\n",
    "\n",
    "# Adding a new item to the dictionary\n",
    "\n",
    "## Add a new item at the end of the dictionary\n",
    "myDict['six'] = 6                       \n",
    "print(myDict)\n",
    "\n",
    "# Remove from a list\n",
    "\n",
    "## Removes the item by its key\n",
    "\n",
    "del myDict['six']                       \n",
    "print(myDict)\n",
    "\n",
    "# Updating the dictionary key-value\n",
    "\n",
    "myDict['three'] = 33\n",
    "print(myDict)\n",
    "\n",
    "# Operators\n",
    "\n",
    "## Returns True if key is present in the dictionary, else False\n",
    "print('one' in myDict)                    "
   ]
  },
  {
   "cell_type": "markdown",
   "metadata": {},
   "source": [
    "# Conditional Statements"
   ]
  },
  {
   "cell_type": "code",
   "execution_count": 8,
   "metadata": {},
   "outputs": [
    {
     "name": "stdout",
     "output_type": "stream",
     "text": [
      "True\n",
      "False\n",
      "False\n",
      "False\n",
      "True\n",
      "True\n"
     ]
    }
   ],
   "source": [
    "number = 5 \n",
    "print(number == 5) # Equals To\n",
    "print(number != 5) # Not-Equal To\n",
    "print(number > 5)  # Greater Than\n",
    "print(number < 5)  # Less Than\n",
    "print(number >= 5) # Greater Than Equal To\n",
    "print(number <= 5) # Less Than Equal To"
   ]
  },
  {
   "cell_type": "code",
   "execution_count": 9,
   "metadata": {},
   "outputs": [
    {
     "name": "stdout",
     "output_type": "stream",
     "text": [
      "True\n",
      "True\n"
     ]
    }
   ],
   "source": [
    "cities = ['Kathmandu', 'Bhaktapur', 'Lalitpur']\n",
    "print('Kathmandu' in cities)\n",
    "print('Itahari' not in cities)"
   ]
  },
  {
   "cell_type": "code",
   "execution_count": 10,
   "metadata": {},
   "outputs": [
    {
     "name": "stdout",
     "output_type": "stream",
     "text": [
      "The number is greater than zero!\n",
      "Zero\n"
     ]
    }
   ],
   "source": [
    "# if/elif/else\n",
    "\n",
    "number = 5\n",
    "if number>0:\n",
    "    print(\"The number is greater than zero!\")\n",
    "elif number<0:\n",
    "    print(\"The number is less than zero!\")\n",
    "else:\n",
    "    print(\"The number is equal to zero!\")\n",
    "    \n",
    "# Pythonic Way for if-else statements\n",
    "\n",
    "num = 0\n",
    "response = 'Zero' if num == 0 else '&GT Zero' if num > 0 else '&LT Zero'\n",
    "print(response)"
   ]
  },
  {
   "cell_type": "code",
   "execution_count": 11,
   "metadata": {},
   "outputs": [
    {
     "name": "stdout",
     "output_type": "stream",
     "text": [
      "IME Pay\n",
      "eSewa\n",
      "Khalti\n"
     ]
    }
   ],
   "source": [
    "# For Loop\n",
    "walletType = ['IME Pay', 'eSewa', 'Paytm', 'Khalti'] \n",
    "\n",
    "for wallet in walletType:\n",
    "    if wallet == 'Paytm':\n",
    "        continue          # Stops the current iteration, and proceeds to next one.\n",
    "    print(wallet)"
   ]
  },
  {
   "cell_type": "code",
   "execution_count": 12,
   "metadata": {},
   "outputs": [
    {
     "name": "stdout",
     "output_type": "stream",
     "text": [
      "0\n",
      "2\n",
      "4\n",
      "6\n",
      "8\n",
      "\n",
      "\n",
      "1\n",
      "3\n"
     ]
    }
   ],
   "source": [
    "# While Loop\n",
    "\n",
    "counter = 0\n",
    "increment = 2\n",
    "while counter < 10: # Iterates as long as the condition satisfies\n",
    "    print(counter)\n",
    "    counter += increment\n",
    "\n",
    "print('\\n')\n",
    "    \n",
    "oddNum = 1\n",
    "increment = 2\n",
    "while oddNum < 10: \n",
    "    print(oddNum)\n",
    "    oddNum += increment\n",
    "    if oddNum%5==0:\n",
    "        break           # Exits from loop when conditions are met"
   ]
  },
  {
   "cell_type": "markdown",
   "metadata": {},
   "source": [
    "# Functions\n",
    "\n",
    "    - moduralize a piece of code\n",
    "    - referenced by using the word def, meaning 'definition'\n",
    "\n",
    "      def my_function(num):\n",
    "          print(num)\n",
    "\n",
    "      my_function - function name\n",
    "      num - parameters to the function\n",
    "      print(num) - output of the function"
   ]
  },
  {
   "cell_type": "code",
   "execution_count": 13,
   "metadata": {},
   "outputs": [
    {
     "name": "stdout",
     "output_type": "stream",
     "text": [
      "This is our function output!\n",
      "3\n",
      "10\n",
      "15 5\n",
      "20 25\n",
      "30\n",
      "35 40\n",
      "Pukar Acharya\n",
      "Madan Baral\n",
      "Ramesh Rajgopal\n"
     ]
    }
   ],
   "source": [
    "# General Function Type\n",
    "\n",
    "def print_function():\n",
    "    print('This is our function output!')\n",
    "print_function()\n",
    "\n",
    "# Parameterized Function\n",
    "def print_value(num):\n",
    "    print(num)\n",
    "value = 3\n",
    "print_value(value)\n",
    "\n",
    "# Passing values as arguments\n",
    "def print_funvalue(num):\n",
    "    print(num)\n",
    "print_funvalue(num=10)\n",
    "\n",
    "# Default value to a function\n",
    "def funValue(num1, num2=5):  \n",
    "    print(num1, num2)\n",
    "funValue(num1=15)\n",
    "funValue(num1=20, num2=25)\n",
    "\n",
    "# None makes the function parameter to be optional\n",
    "def funValueNew(num1, num2=None):  \n",
    "    if num2:\n",
    "        print(num1, num2)\n",
    "    else:\n",
    "        print(num1)\n",
    "funValueNew(num1=30)\n",
    "funValueNew(num1=35, num2=40)\n",
    "\n",
    "# Asterisks aids to receive arugments during run time.\n",
    "# '*' captures any number of positional arguments into a Tuple.\n",
    "# '**' captures any number of positional arguments into a Dictionary.\n",
    "def printNames(*names):\n",
    "    for name in names:\n",
    "        print(name)\n",
    "\n",
    "printNames('Pukar Acharya', 'Madan Baral', 'Ramesh Rajgopal')"
   ]
  },
  {
   "cell_type": "markdown",
   "metadata": {},
   "source": [
    "# Operators"
   ]
  },
  {
   "cell_type": "code",
   "execution_count": 14,
   "metadata": {},
   "outputs": [
    {
     "name": "stdout",
     "output_type": "stream",
     "text": [
      "13\n",
      "7\n",
      "30\n",
      "3.3333333333333335\n",
      "3\n",
      "1\n",
      "1000\n",
      "[10, 20, 30, 70, 80, 90, 40, 50, 60]\n"
     ]
    }
   ],
   "source": [
    "# Arithmetic Operator\n",
    "\n",
    "## + : Addition, - : Subtraction, *: multipication, / : Division, % : Modulus\n",
    "\n",
    "num1, num2 = 10, 3\n",
    "print(num1+num2)\n",
    "print(num1-num2)\n",
    "print(num1*num2)\n",
    "print(num1/num2)\n",
    "print(num1//num2)\n",
    "print(num1%num2) \n",
    "\n",
    "print(num1**num2) # ** equals to Exponents, i.e. 10^3\n",
    "\n",
    "\n",
    "# Iterable Unpacking using Aestrisks\n",
    "\n",
    "A = [10, 20, 30]\n",
    "B = (70, 80, 90)\n",
    "C = {40, 50, 60}\n",
    "L = [*A, *B, *C]\n",
    "print(L)"
   ]
  },
  {
   "cell_type": "markdown",
   "metadata": {},
   "source": [
    "# Strings\n",
    "\n",
    "    - declared using a single quotation ' ' or a double quotation marks \" \""
   ]
  },
  {
   "cell_type": "code",
   "execution_count": 15,
   "metadata": {},
   "outputs": [
    {
     "name": "stdout",
     "output_type": "stream",
     "text": [
      "python\n",
      "PROGRAMMING\n",
      "6\n",
      "TH\n",
      "Ohh Hello, Good Morning!\n",
      "['Ohh', 'Hello,', 'Good', 'Morning!']\n",
      "CYTHON\n",
      "True\n",
      "False\n",
      "True\n",
      "True\n",
      "False\n",
      "PYTHON    \n",
      "programming\n",
      "   Ohh Hello, Good Morning!  \n",
      "These are string literals.\n",
      "Thesearestringliterals.\n",
      "These,are,string,literals.\n"
     ]
    }
   ],
   "source": [
    "a = \"PYTHON\" \n",
    "b = \"programming\"\n",
    "c = \"   Ohh Hello, Good Morning!  \"\n",
    "d = ['These', 'are', 'string', 'literals.']\n",
    "\n",
    "## Converts to lowercase\n",
    "print(a.lower())            \n",
    "## Converts to uppercase\n",
    "print(b.upper())            \n",
    "## Length of the string - P(1) Y(2) T(3) H(4) O(5) N(6)\n",
    "print(len(a))               \n",
    "## Includes the beginning index, excludes the end index\n",
    "print(a[2:4])\n",
    "## Removes whitespace from beginning or end of an string\n",
    "print(c.strip())        \n",
    "## Splits out an string with the help of a separator\n",
    "print(c.strip().split())    \n",
    "## Replace a character or characters with another in an string\n",
    "print(a.replace(\"P\", \"C\"))\n",
    "## Returns True if alphabet\n",
    "print(a.isalpha())\n",
    "## Returns True if digits\n",
    "print(a.isdigit())\n",
    "## Returns True if alphanumeric\n",
    "print(a.isalnum())\n",
    "## Returns True if string starts with the arguments passed\n",
    "print(a.startswith(\"PYT\"))\n",
    "## Returns True if the string ends with the arguments passed\n",
    "print(b.endswith(\"ING\"))\n",
    "## Left adjustment\n",
    "print(a.ljust(10))\n",
    "## Right adjustment\n",
    "print(b.rjust(10)) \n",
    "## Center adjustment\n",
    "print(c.center(10))\n",
    "## Combines the string literals\n",
    "print(\" \".join(d))          \n",
    "print(\"\".join(d)) \n",
    "print(\",\".join(d))"
   ]
  },
  {
   "cell_type": "markdown",
   "metadata": {},
   "source": [
    "# User Input\n",
    "\n",
    "    - input keyword prompts for a user input\n",
    "    - all inputs are stored as string values, by default!"
   ]
  },
  {
   "cell_type": "code",
   "execution_count": 16,
   "metadata": {},
   "outputs": [
    {
     "name": "stdout",
     "output_type": "stream",
     "text": [
      "What's your good name?\n",
      "Pukar\n",
      "What's your age?\n",
      "25\n",
      "How tall are you?\n",
      "176\n",
      "Pukar, you are of age 25, and your height is 176 cms!\n"
     ]
    }
   ],
   "source": [
    "print(\"What's your good name?\")\n",
    "x = input()\n",
    "print(\"What's your age?\")\n",
    "y = int(input())\n",
    "print(\"How tall are you?\")\n",
    "z = input()\n",
    "\n",
    "print(\"{}, you are of age {}, and your height is {} cms!\".format(x, y,z))"
   ]
  },
  {
   "cell_type": "markdown",
   "metadata": {},
   "source": [
    "# Type Casting\n",
    "\n",
    "    - changing the data type between integer, floating points, strings, etc."
   ]
  },
  {
   "cell_type": "code",
   "execution_count": 17,
   "metadata": {},
   "outputs": [
    {
     "name": "stdout",
     "output_type": "stream",
     "text": [
      "<class 'int'>, <class 'float'>\n",
      "<class 'float'>, <class 'str'>\n"
     ]
    }
   ],
   "source": [
    "x = 10    # Integer Variable\n",
    "y = 5.0   # Floating point Variable\n",
    "\n",
    "print(f\"{type(x)}, {type(float(x))}\")\n",
    "print(f\"{type(y)}, {type(str(y))}\")"
   ]
  },
  {
   "cell_type": "markdown",
   "metadata": {},
   "source": [
    "# Common Functions"
   ]
  },
  {
   "cell_type": "code",
   "execution_count": 18,
   "metadata": {},
   "outputs": [
    {
     "name": "stdout",
     "output_type": "stream",
     "text": [
      "10\n",
      "5\n",
      "3\n"
     ]
    }
   ],
   "source": [
    "a = 10\n",
    "b = 5 \n",
    "c = -3 \n",
    "\n",
    "print(max(a,b))   # Returns the maximum value\n",
    "print(min(a,b))   # Returns the minimum value\n",
    "print(abs(c))     # Returns the absolute value of the number"
   ]
  },
  {
   "cell_type": "markdown",
   "metadata": {},
   "source": [
    "# Number Properties"
   ]
  },
  {
   "cell_type": "markdown",
   "metadata": {},
   "source": [
    "### Real Numbers\n",
    "\n",
    "    - round(decimal digit, ndigits)\n",
    "      rounds a decimal digit to the ndigits precision point\n",
    "    - format(number, '0.yf')\n",
    "      return the number to y decimal points of accuracy\n",
    "    - format(number, '>x.yf')\n",
    "      return the number which is right justified in x characters,\n",
    "      with y points of decimal accuracy\n",
    "    - format(number, '<x.yf')\n",
    "      return the number which is left justified in x characters,\n",
    "      with y points of decimal accuracy\n",
    "    - format(number, '^x.yf')\n",
    "      return a number which is centered around x characters,\n",
    "      with y points decimal accuracy\n",
    "    - bin(), oct(), hex()\n",
    "      converts a number to its binary, octal or hexadecimal form respetively\n",
    "    - format(number, f)\n",
    "      converts to binary, octal or hexadecimal form with f,\n",
    "      indexed as b, o and x respectively"
   ]
  },
  {
   "cell_type": "code",
   "execution_count": 19,
   "metadata": {},
   "outputs": [
    {
     "name": "stdout",
     "output_type": "stream",
     "text": [
      "3.14\n",
      "3.14\n",
      "      3.14\n",
      "3.14      \n",
      "   3.14   \n",
      "3141 is: 0b110001000101 in binary, 0o6105 in octal, & 0xc45 in hexadecimal form.\n",
      "3141 is: 110001000101 in binary, 6105 in octal, & c45 in hexadecimal form.\n"
     ]
    }
   ],
   "source": [
    "pi = 3.14159\n",
    "number = 3141\n",
    "\n",
    "print(round(pi, 2))\n",
    "print(format(pi, '0.2f'))\n",
    "print(format(pi, '>10.2f'))\n",
    "print(format(pi, '<10.2f'))\n",
    "print(format(pi, '^10.2f'))\n",
    "print(\"{} is: {} in binary, {} in octal, & {} in hexadecimal form.\"\n",
    "      .format(number, bin(number), oct(number), hex(number)))\n",
    "print(\"{} is: {} in binary, {} in octal, & {} in hexadecimal form.\"\n",
    "      .format(number, format(number, 'b'),\n",
    "      format(number, 'o'), format(number, 'x')))"
   ]
  },
  {
   "cell_type": "markdown",
   "metadata": {},
   "source": [
    "### Complex Numbers\n",
    "\n",
    "    - numbers in a + ij form\n",
    "    \n",
    "    1. complex.real- returns the real part of a complex number\n",
    "    2. complex.imag- returns the imaginary part of a complex number\n",
    "    3. complex.conjugate()- return the conjugate of a complex number"
   ]
  },
  {
   "cell_type": "code",
   "execution_count": 20,
   "metadata": {},
   "outputs": [
    {
     "name": "stdout",
     "output_type": "stream",
     "text": [
      "(9+4j)\n",
      "4.0\n",
      "2.0\n",
      "(4-2j)\n"
     ]
    }
   ],
   "source": [
    "x = 5 + 2j\n",
    "y = complex(4, 2) # takes the (real, imaginary) complex form\n",
    "\n",
    "z = x + y\n",
    "print(z)\n",
    "print(y.real)\n",
    "print(y.imag)\n",
    "print(y.conjugate())"
   ]
  },
  {
   "cell_type": "markdown",
   "metadata": {},
   "source": [
    "### Fractions"
   ]
  },
  {
   "cell_type": "code",
   "execution_count": 21,
   "metadata": {},
   "outputs": [
    {
     "name": "stdout",
     "output_type": "stream",
     "text": [
      "5\n",
      "2\n",
      "6\n"
     ]
    }
   ],
   "source": [
    "from fractions import Fraction\n",
    "\n",
    "a = Fraction(5,2)\n",
    "b = Fraction(7,2)\n",
    "print(a.numerator)\n",
    "print(b.denominator)\n",
    "print(a+b)"
   ]
  },
  {
   "cell_type": "markdown",
   "metadata": {},
   "source": [
    "# Iterators\n",
    "\n",
    "    - ways to process items in a sequence.\n",
    "    - uses 'iter' tools module, to return an iterator object."
   ]
  },
  {
   "cell_type": "code",
   "execution_count": 22,
   "metadata": {},
   "outputs": [
    {
     "name": "stdout",
     "output_type": "stream",
     "text": [
      "#1 a\n",
      "#2 b\n"
     ]
    }
   ],
   "source": [
    "alphabets = ['a', 'b', 'c', 'd', 'e', 'f']\n",
    "it = iter(alphabets)\n",
    "print(\"#1 {}\".format(next(it)))\n",
    "print(\"#2 {}\".format(next(it)))"
   ]
  },
  {
   "cell_type": "code",
   "execution_count": 23,
   "metadata": {},
   "outputs": [
    {
     "name": "stdout",
     "output_type": "stream",
     "text": [
      "5\n",
      "4\n",
      "3\n",
      "2\n",
      "1\n"
     ]
    }
   ],
   "source": [
    "num = (1, 2, 3, 4, 5)\n",
    "## Reverse Iteration\n",
    "for val in reversed(num): \n",
    "    print(val)"
   ]
  },
  {
   "cell_type": "code",
   "execution_count": 24,
   "metadata": {},
   "outputs": [
    {
     "name": "stdout",
     "output_type": "stream",
     "text": [
      "('1', '2', '3')\n",
      "('1', '3', '2')\n",
      "('2', '1', '3')\n",
      "('2', '3', '1')\n",
      "('3', '1', '2')\n",
      "('3', '2', '1')\n",
      "\n",
      "\n",
      "('1', '2')\n",
      "('1', '3')\n",
      "('2', '3')\n"
     ]
    }
   ],
   "source": [
    "from itertools import permutations, combinations \n",
    "num = ['1', '2', '3']\n",
    "\n",
    "## All possible permutation outcomes\n",
    "for val in permutations(num): \n",
    "    print(val)\n",
    "    \n",
    "print('\\n')\n",
    "\n",
    "## Smaller length (combinations(items))) outcomes\n",
    "for val in combinations(num, 2): \n",
    "    print(val)"
   ]
  },
  {
   "cell_type": "code",
   "execution_count": 25,
   "metadata": {},
   "outputs": [
    {
     "name": "stdout",
     "output_type": "stream",
     "text": [
      "1 = Sunday\n",
      "3 = Tuesday\n",
      "2 = Monday\n",
      "4 = Wednesday\n",
      "5 = Thursday\n",
      "6 = Friday\n",
      "7 = Saturday\n"
     ]
    }
   ],
   "source": [
    "# zip pair up values from two or more distribution list\n",
    "\n",
    "day = ['Sunday', 'Tuesday', 'Monday', 'Wednesday', 'Thursday', 'Friday', 'Saturday']\n",
    "i = [1, 3, 2, 4, 5, 6, 7]\n",
    "\n",
    "for a, b in zip(day, i):\n",
    "    print(b, \"=\", a)"
   ]
  },
  {
   "cell_type": "markdown",
   "metadata": {},
   "source": [
    "# Lambda Functions\n",
    "\n",
    "    - provides flexibility to write elegant Python codes\n",
    "    - Structure -> lambda arguments : expression"
   ]
  },
  {
   "cell_type": "code",
   "execution_count": 26,
   "metadata": {},
   "outputs": [
    {
     "name": "stdout",
     "output_type": "stream",
     "text": [
      "7\n",
      "7\n"
     ]
    }
   ],
   "source": [
    "def addTwo(num):\n",
    "    return num + 2\n",
    "print(addTwo(5))           # Outputs to 7 \n",
    "\n",
    "addNumbers = lambda x: x+2\n",
    "print(addNumbers(5))       # Outputs to 7"
   ]
  },
  {
   "cell_type": "code",
   "execution_count": 27,
   "metadata": {},
   "outputs": [
    {
     "name": "stdout",
     "output_type": "stream",
     "text": [
      "[3, 9, 15]\n",
      "[3, 9, 15]\n"
     ]
    }
   ],
   "source": [
    "numbers = [1, 3, 5, 7, 9, 11, 13, 15, 17, 19]\n",
    "print(list(filter(lambda x: x % 3 == 0, numbers)), end = '\\n')\n",
    "\n",
    "# Another Approach using List Comprehensions\n",
    "divisibleBy3 = [num for num in numbers if num % 3 == 0]\n",
    "print(divisibleBy3)"
   ]
  },
  {
   "cell_type": "markdown",
   "metadata": {},
   "source": [
    "# Classes\n",
    "\n",
    "    - acts as a larger template for a code base.\n",
    "    - helps to bind data and function together.\n",
    "    - object constructors, and a major paradigm for OOP.\n",
    "    - Objects are the definition/instance of each class."
   ]
  },
  {
   "cell_type": "code",
   "execution_count": 28,
   "metadata": {},
   "outputs": [
    {
     "name": "stdout",
     "output_type": "stream",
     "text": [
      "5 , 10\n",
      "5\n",
      "10\n",
      "5 10\n"
     ]
    }
   ],
   "source": [
    "# General Case\n",
    "\n",
    "## Initialize a Shape Class\n",
    "class Shape():\n",
    "    \n",
    "    # Constructor method, that allows a class to initialize\n",
    "    # its attributes. It is called automatically when an object\n",
    "    # of the class is created.  \n",
    "    def __init__(self, length, breadth): \n",
    "        self.length = length\n",
    "        self.breadth = breadth\n",
    "    \n",
    "    # Ignores the class object representation of an attribute, \n",
    "    # and returns the string representation of the object.\n",
    "    # It is helpful when a print function is invoked on an object.\n",
    "    def __str__(self):          \n",
    "        return f\"{self.length} , {self.breadth}\"\n",
    "        \n",
    "    def print_shape(self):\n",
    "        print(self.length, self.breadth)\n",
    "\n",
    "## Creating an object of the class\n",
    "object1 = Shape(length = 5, breadth = 10)\n",
    "print(object1)\n",
    "\n",
    "# Accessing attribute values\n",
    "print(object1.length)   \n",
    "print(object1.breadth)\n",
    "object1.print_shape()   # Calling Method"
   ]
  },
  {
   "cell_type": "code",
   "execution_count": 29,
   "metadata": {},
   "outputs": [
    {
     "name": "stdout",
     "output_type": "stream",
     "text": [
      "For <class '__main__.Rectangle'> \n",
      "Length 15 Breadth 10 & Height5\n",
      "For <class '__main__.Square'>\n",
      "Length 5 Breadth 5 & Height5\n"
     ]
    }
   ],
   "source": [
    "# Class Inheritance\n",
    "\n",
    "# There are base or parent classes and child or derived classes. \n",
    "# Data members and methods from base class gets reused into derived class\n",
    "\n",
    "class Shape(): #Base Class\n",
    "    def __init__(self, length, breadth, height):\n",
    "        self.length = length\n",
    "        self.breadth = breadth\n",
    "        self.height = height\n",
    "        \n",
    "    def show_details(self):\n",
    "        print(\"Length {} Breadth {} & Height{}\".format(self.length, self.breadth, self.height))\n",
    "\n",
    "class Rectangle(Shape): #First Child Class\n",
    "    def __init__(self, length, breadth, height):\n",
    "        super().__init__(length, breadth, height)\n",
    "        \n",
    "    def show_values(self): # Adding a new method to child class\n",
    "        print(\"Length {} Breadth {} & Height{}\".format(self.length, self.breadth, self.height))\n",
    "\n",
    "class Square(Rectangle): # Second Child Class\n",
    "    def __init__(self, length, breadth, height):\n",
    "        super().__init__(length, breadth, height)        \n",
    "        \n",
    "    def print_details(self):\n",
    "        print(\"Length {} Breadth {} & Height{}\".format(self.length, self.breadth, self.height))\n",
    "        \n",
    "obj1 = Rectangle(15, 10, 5) # Instant for Rectangle Class\n",
    "print(\"For {} \".format(str(obj1.__class__)))\n",
    "obj1.show_details()   # Using methods from Parent Class\n",
    "obj2 = Square(5, 5, 5)\n",
    "print(\"For {}\".format(str(obj2.__class__)))\n",
    "obj2.show_values()    # Using methods from Parent Class"
   ]
  },
  {
   "cell_type": "code",
   "execution_count": 30,
   "metadata": {},
   "outputs": [
    {
     "name": "stdout",
     "output_type": "stream",
     "text": [
      "<__main__.A object at 0x7fa2886025e0> Hello\n",
      "<__main__.B object at 0x7fa288602640> World\n"
     ]
    }
   ],
   "source": [
    "# During method overriding, methods from child class provides their own definition,\n",
    "# without using definitions from base class.\n",
    "# The Child class thus overrides the method of the base class.\n",
    "\n",
    "class A:\n",
    "    def show(self, msg):\n",
    "        print(\"{} {}\".format(self, msg))\n",
    "\n",
    "class B(A):\n",
    "    def show(self, msg):\n",
    "        print(\"{} {}\".format(self, msg))\n",
    "        \n",
    "obj1 = A()\n",
    "obj1.show(\"Hello\")\n",
    "obj2 = B()\n",
    "obj2.show(\"World\")"
   ]
  }
 ],
 "metadata": {
  "kernelspec": {
   "display_name": "Python 3",
   "language": "python",
   "name": "python3"
  },
  "language_info": {
   "codemirror_mode": {
    "name": "ipython",
    "version": 3
   },
   "file_extension": ".py",
   "mimetype": "text/x-python",
   "name": "python",
   "nbconvert_exporter": "python",
   "pygments_lexer": "ipython3",
   "version": "3.8.1"
  }
 },
 "nbformat": 4,
 "nbformat_minor": 4
}
